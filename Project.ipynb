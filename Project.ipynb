{
 "cells": [
  {
   "cell_type": "code",
   "execution_count": 15,
   "metadata": {
    "collapsed": true
   },
   "outputs": [],
   "source": [
    "import numpy as np\n",
    "import matplotlib.pyplot as plt\n",
    "import pandas as pd"
   ]
  },
  {
   "cell_type": "code",
   "execution_count": 16,
   "outputs": [
    {
     "data": {
      "text/plain": "        distance_from_home  distance_from_last_transaction  \\\n0                57.877857                        0.311140   \n1                10.829943                        0.175592   \n2                 5.091079                        0.805153   \n3                 2.247564                        5.600044   \n4                44.190936                        0.566486   \n...                    ...                             ...   \n999995            2.207101                        0.112651   \n999996           19.872726                        2.683904   \n999997            2.914857                        1.472687   \n999998            4.258729                        0.242023   \n999999           58.108125                        0.318110   \n\n        ratio_to_median_purchase_price  repeat_retailer  used_chip  \\\n0                             1.945940              1.0        1.0   \n1                             1.294219              1.0        0.0   \n2                             0.427715              1.0        0.0   \n3                             0.362663              1.0        1.0   \n4                             2.222767              1.0        1.0   \n...                                ...              ...        ...   \n999995                        1.626798              1.0        1.0   \n999996                        2.778303              1.0        1.0   \n999997                        0.218075              1.0        1.0   \n999998                        0.475822              1.0        0.0   \n999999                        0.386920              1.0        1.0   \n\n        used_pin_number  online_order  fraud  \n0                   0.0           0.0    0.0  \n1                   0.0           0.0    0.0  \n2                   0.0           1.0    0.0  \n3                   0.0           1.0    0.0  \n4                   0.0           1.0    0.0  \n...                 ...           ...    ...  \n999995              0.0           0.0    0.0  \n999996              0.0           0.0    0.0  \n999997              0.0           1.0    0.0  \n999998              0.0           1.0    0.0  \n999999              0.0           1.0    0.0  \n\n[1000000 rows x 8 columns]",
      "text/html": "<div>\n<style scoped>\n    .dataframe tbody tr th:only-of-type {\n        vertical-align: middle;\n    }\n\n    .dataframe tbody tr th {\n        vertical-align: top;\n    }\n\n    .dataframe thead th {\n        text-align: right;\n    }\n</style>\n<table border=\"1\" class=\"dataframe\">\n  <thead>\n    <tr style=\"text-align: right;\">\n      <th></th>\n      <th>distance_from_home</th>\n      <th>distance_from_last_transaction</th>\n      <th>ratio_to_median_purchase_price</th>\n      <th>repeat_retailer</th>\n      <th>used_chip</th>\n      <th>used_pin_number</th>\n      <th>online_order</th>\n      <th>fraud</th>\n    </tr>\n  </thead>\n  <tbody>\n    <tr>\n      <th>0</th>\n      <td>57.877857</td>\n      <td>0.311140</td>\n      <td>1.945940</td>\n      <td>1.0</td>\n      <td>1.0</td>\n      <td>0.0</td>\n      <td>0.0</td>\n      <td>0.0</td>\n    </tr>\n    <tr>\n      <th>1</th>\n      <td>10.829943</td>\n      <td>0.175592</td>\n      <td>1.294219</td>\n      <td>1.0</td>\n      <td>0.0</td>\n      <td>0.0</td>\n      <td>0.0</td>\n      <td>0.0</td>\n    </tr>\n    <tr>\n      <th>2</th>\n      <td>5.091079</td>\n      <td>0.805153</td>\n      <td>0.427715</td>\n      <td>1.0</td>\n      <td>0.0</td>\n      <td>0.0</td>\n      <td>1.0</td>\n      <td>0.0</td>\n    </tr>\n    <tr>\n      <th>3</th>\n      <td>2.247564</td>\n      <td>5.600044</td>\n      <td>0.362663</td>\n      <td>1.0</td>\n      <td>1.0</td>\n      <td>0.0</td>\n      <td>1.0</td>\n      <td>0.0</td>\n    </tr>\n    <tr>\n      <th>4</th>\n      <td>44.190936</td>\n      <td>0.566486</td>\n      <td>2.222767</td>\n      <td>1.0</td>\n      <td>1.0</td>\n      <td>0.0</td>\n      <td>1.0</td>\n      <td>0.0</td>\n    </tr>\n    <tr>\n      <th>...</th>\n      <td>...</td>\n      <td>...</td>\n      <td>...</td>\n      <td>...</td>\n      <td>...</td>\n      <td>...</td>\n      <td>...</td>\n      <td>...</td>\n    </tr>\n    <tr>\n      <th>999995</th>\n      <td>2.207101</td>\n      <td>0.112651</td>\n      <td>1.626798</td>\n      <td>1.0</td>\n      <td>1.0</td>\n      <td>0.0</td>\n      <td>0.0</td>\n      <td>0.0</td>\n    </tr>\n    <tr>\n      <th>999996</th>\n      <td>19.872726</td>\n      <td>2.683904</td>\n      <td>2.778303</td>\n      <td>1.0</td>\n      <td>1.0</td>\n      <td>0.0</td>\n      <td>0.0</td>\n      <td>0.0</td>\n    </tr>\n    <tr>\n      <th>999997</th>\n      <td>2.914857</td>\n      <td>1.472687</td>\n      <td>0.218075</td>\n      <td>1.0</td>\n      <td>1.0</td>\n      <td>0.0</td>\n      <td>1.0</td>\n      <td>0.0</td>\n    </tr>\n    <tr>\n      <th>999998</th>\n      <td>4.258729</td>\n      <td>0.242023</td>\n      <td>0.475822</td>\n      <td>1.0</td>\n      <td>0.0</td>\n      <td>0.0</td>\n      <td>1.0</td>\n      <td>0.0</td>\n    </tr>\n    <tr>\n      <th>999999</th>\n      <td>58.108125</td>\n      <td>0.318110</td>\n      <td>0.386920</td>\n      <td>1.0</td>\n      <td>1.0</td>\n      <td>0.0</td>\n      <td>1.0</td>\n      <td>0.0</td>\n    </tr>\n  </tbody>\n</table>\n<p>1000000 rows × 8 columns</p>\n</div>"
     },
     "execution_count": 16,
     "metadata": {},
     "output_type": "execute_result"
    }
   ],
   "source": [
    "dataset = pd.read_csv(\"card_transdata.csv\")\n",
    "dataset"
   ],
   "metadata": {
    "collapsed": false
   }
  },
  {
   "cell_type": "code",
   "execution_count": 17,
   "outputs": [
    {
     "data": {
      "text/plain": "Index(['distance_from_home', 'distance_from_last_transaction',\n       'ratio_to_median_purchase_price', 'repeat_retailer', 'used_chip',\n       'used_pin_number', 'online_order', 'fraud'],\n      dtype='object')"
     },
     "execution_count": 17,
     "metadata": {},
     "output_type": "execute_result"
    }
   ],
   "source": [
    "dataset.keys()"
   ],
   "metadata": {
    "collapsed": false
   }
  },
  {
   "cell_type": "code",
   "execution_count": 58,
   "outputs": [
    {
     "data": {
      "text/plain": "        distance_from_home  distance_from_last_transaction  \\\n239196            0.551212                        1.720635   \n94748             5.416738                        0.982537   \n482969           60.361368                        0.677463   \n915114            9.186920                        0.264709   \n251187            6.169358                       25.766101   \n...                    ...                             ...   \n192476           18.375816                       41.775537   \n17730            12.567937                        4.659560   \n28030            49.165689                        0.051509   \n277869           15.103890                        1.414150   \n773630            5.268070                        7.196594   \n\n        ratio_to_median_purchase_price  repeat_retailer  used_chip  \\\n239196                        1.051319              0.0        0.0   \n94748                         0.756647              1.0        0.0   \n482969                        0.827349              1.0        1.0   \n915114                        5.862443              1.0        0.0   \n251187                        6.286362              1.0        1.0   \n...                                ...              ...        ...   \n192476                        0.222252              1.0        0.0   \n17730                         2.226731              1.0        0.0   \n28030                         4.576448              1.0        0.0   \n277869                        0.301148              1.0        0.0   \n773630                        0.836012              1.0        0.0   \n\n        used_pin_number  online_order  fraud  \n239196              1.0           1.0  legal  \n94748               0.0           1.0  legal  \n482969              0.0           0.0  legal  \n915114              0.0           1.0  fraud  \n251187              0.0           1.0  fraud  \n...                 ...           ...    ...  \n192476              1.0           1.0  legal  \n17730               0.0           0.0  legal  \n28030               1.0           1.0  legal  \n277869              0.0           0.0  legal  \n773630              0.0           1.0  legal  \n\n[700000 rows x 8 columns]",
      "text/html": "<div>\n<style scoped>\n    .dataframe tbody tr th:only-of-type {\n        vertical-align: middle;\n    }\n\n    .dataframe tbody tr th {\n        vertical-align: top;\n    }\n\n    .dataframe thead th {\n        text-align: right;\n    }\n</style>\n<table border=\"1\" class=\"dataframe\">\n  <thead>\n    <tr style=\"text-align: right;\">\n      <th></th>\n      <th>distance_from_home</th>\n      <th>distance_from_last_transaction</th>\n      <th>ratio_to_median_purchase_price</th>\n      <th>repeat_retailer</th>\n      <th>used_chip</th>\n      <th>used_pin_number</th>\n      <th>online_order</th>\n      <th>fraud</th>\n    </tr>\n  </thead>\n  <tbody>\n    <tr>\n      <th>239196</th>\n      <td>0.551212</td>\n      <td>1.720635</td>\n      <td>1.051319</td>\n      <td>0.0</td>\n      <td>0.0</td>\n      <td>1.0</td>\n      <td>1.0</td>\n      <td>legal</td>\n    </tr>\n    <tr>\n      <th>94748</th>\n      <td>5.416738</td>\n      <td>0.982537</td>\n      <td>0.756647</td>\n      <td>1.0</td>\n      <td>0.0</td>\n      <td>0.0</td>\n      <td>1.0</td>\n      <td>legal</td>\n    </tr>\n    <tr>\n      <th>482969</th>\n      <td>60.361368</td>\n      <td>0.677463</td>\n      <td>0.827349</td>\n      <td>1.0</td>\n      <td>1.0</td>\n      <td>0.0</td>\n      <td>0.0</td>\n      <td>legal</td>\n    </tr>\n    <tr>\n      <th>915114</th>\n      <td>9.186920</td>\n      <td>0.264709</td>\n      <td>5.862443</td>\n      <td>1.0</td>\n      <td>0.0</td>\n      <td>0.0</td>\n      <td>1.0</td>\n      <td>fraud</td>\n    </tr>\n    <tr>\n      <th>251187</th>\n      <td>6.169358</td>\n      <td>25.766101</td>\n      <td>6.286362</td>\n      <td>1.0</td>\n      <td>1.0</td>\n      <td>0.0</td>\n      <td>1.0</td>\n      <td>fraud</td>\n    </tr>\n    <tr>\n      <th>...</th>\n      <td>...</td>\n      <td>...</td>\n      <td>...</td>\n      <td>...</td>\n      <td>...</td>\n      <td>...</td>\n      <td>...</td>\n      <td>...</td>\n    </tr>\n    <tr>\n      <th>192476</th>\n      <td>18.375816</td>\n      <td>41.775537</td>\n      <td>0.222252</td>\n      <td>1.0</td>\n      <td>0.0</td>\n      <td>1.0</td>\n      <td>1.0</td>\n      <td>legal</td>\n    </tr>\n    <tr>\n      <th>17730</th>\n      <td>12.567937</td>\n      <td>4.659560</td>\n      <td>2.226731</td>\n      <td>1.0</td>\n      <td>0.0</td>\n      <td>0.0</td>\n      <td>0.0</td>\n      <td>legal</td>\n    </tr>\n    <tr>\n      <th>28030</th>\n      <td>49.165689</td>\n      <td>0.051509</td>\n      <td>4.576448</td>\n      <td>1.0</td>\n      <td>0.0</td>\n      <td>1.0</td>\n      <td>1.0</td>\n      <td>legal</td>\n    </tr>\n    <tr>\n      <th>277869</th>\n      <td>15.103890</td>\n      <td>1.414150</td>\n      <td>0.301148</td>\n      <td>1.0</td>\n      <td>0.0</td>\n      <td>0.0</td>\n      <td>0.0</td>\n      <td>legal</td>\n    </tr>\n    <tr>\n      <th>773630</th>\n      <td>5.268070</td>\n      <td>7.196594</td>\n      <td>0.836012</td>\n      <td>1.0</td>\n      <td>0.0</td>\n      <td>0.0</td>\n      <td>1.0</td>\n      <td>legal</td>\n    </tr>\n  </tbody>\n</table>\n<p>700000 rows × 8 columns</p>\n</div>"
     },
     "execution_count": 58,
     "metadata": {},
     "output_type": "execute_result"
    }
   ],
   "source": [
    "from sklearn.model_selection import train_test_split\n",
    "dataset[\"fraud\"] = dataset[\"fraud\"].replace(1.0, \"fraud\")\n",
    "dataset[\"fraud\"] = dataset[\"fraud\"].replace(0.0, \"legal\")\n",
    "train, test = train_test_split(dataset, train_size=0.7, random_state=123)\n",
    "train"
   ],
   "metadata": {
    "collapsed": false
   }
  },
  {
   "cell_type": "code",
   "execution_count": 63,
   "outputs": [
    {
     "data": {
      "text/plain": "        distance_from_home  distance_from_last_transaction  \\\n373315            0.340627                        0.919041   \n459286           13.328889                        0.371472   \n262398           16.163945                        0.373159   \n789396           15.295154                       29.279590   \n383229           11.175229                        0.089490   \n...                    ...                             ...   \n214194            2.524718                        0.097343   \n494725            7.754995                        1.619540   \n820711            3.532002                        3.149496   \n217674            2.309564                        1.977136   \n370646           18.604721                        0.555865   \n\n        ratio_to_median_purchase_price  repeat_retailer  used_chip  \\\n373315                        1.235189              0.0        0.0   \n459286                        4.936644              1.0        1.0   \n262398                        0.610444              1.0        1.0   \n789396                        0.646483              1.0        0.0   \n383229                        1.523919              1.0        1.0   \n...                                ...              ...        ...   \n214194                        0.512893              1.0        1.0   \n494725                        2.912414              1.0        0.0   \n820711                        0.628974              1.0        0.0   \n217674                        1.909903              1.0        0.0   \n370646                        0.777315              1.0        0.0   \n\n        used_pin_number  online_order  \n373315              0.0           1.0  \n459286              0.0           1.0  \n262398              0.0           0.0  \n789396              0.0           1.0  \n383229              0.0           0.0  \n...                 ...           ...  \n214194              0.0           0.0  \n494725              0.0           1.0  \n820711              0.0           1.0  \n217674              0.0           1.0  \n370646              0.0           1.0  \n\n[300000 rows x 7 columns]",
      "text/html": "<div>\n<style scoped>\n    .dataframe tbody tr th:only-of-type {\n        vertical-align: middle;\n    }\n\n    .dataframe tbody tr th {\n        vertical-align: top;\n    }\n\n    .dataframe thead th {\n        text-align: right;\n    }\n</style>\n<table border=\"1\" class=\"dataframe\">\n  <thead>\n    <tr style=\"text-align: right;\">\n      <th></th>\n      <th>distance_from_home</th>\n      <th>distance_from_last_transaction</th>\n      <th>ratio_to_median_purchase_price</th>\n      <th>repeat_retailer</th>\n      <th>used_chip</th>\n      <th>used_pin_number</th>\n      <th>online_order</th>\n    </tr>\n  </thead>\n  <tbody>\n    <tr>\n      <th>373315</th>\n      <td>0.340627</td>\n      <td>0.919041</td>\n      <td>1.235189</td>\n      <td>0.0</td>\n      <td>0.0</td>\n      <td>0.0</td>\n      <td>1.0</td>\n    </tr>\n    <tr>\n      <th>459286</th>\n      <td>13.328889</td>\n      <td>0.371472</td>\n      <td>4.936644</td>\n      <td>1.0</td>\n      <td>1.0</td>\n      <td>0.0</td>\n      <td>1.0</td>\n    </tr>\n    <tr>\n      <th>262398</th>\n      <td>16.163945</td>\n      <td>0.373159</td>\n      <td>0.610444</td>\n      <td>1.0</td>\n      <td>1.0</td>\n      <td>0.0</td>\n      <td>0.0</td>\n    </tr>\n    <tr>\n      <th>789396</th>\n      <td>15.295154</td>\n      <td>29.279590</td>\n      <td>0.646483</td>\n      <td>1.0</td>\n      <td>0.0</td>\n      <td>0.0</td>\n      <td>1.0</td>\n    </tr>\n    <tr>\n      <th>383229</th>\n      <td>11.175229</td>\n      <td>0.089490</td>\n      <td>1.523919</td>\n      <td>1.0</td>\n      <td>1.0</td>\n      <td>0.0</td>\n      <td>0.0</td>\n    </tr>\n    <tr>\n      <th>...</th>\n      <td>...</td>\n      <td>...</td>\n      <td>...</td>\n      <td>...</td>\n      <td>...</td>\n      <td>...</td>\n      <td>...</td>\n    </tr>\n    <tr>\n      <th>214194</th>\n      <td>2.524718</td>\n      <td>0.097343</td>\n      <td>0.512893</td>\n      <td>1.0</td>\n      <td>1.0</td>\n      <td>0.0</td>\n      <td>0.0</td>\n    </tr>\n    <tr>\n      <th>494725</th>\n      <td>7.754995</td>\n      <td>1.619540</td>\n      <td>2.912414</td>\n      <td>1.0</td>\n      <td>0.0</td>\n      <td>0.0</td>\n      <td>1.0</td>\n    </tr>\n    <tr>\n      <th>820711</th>\n      <td>3.532002</td>\n      <td>3.149496</td>\n      <td>0.628974</td>\n      <td>1.0</td>\n      <td>0.0</td>\n      <td>0.0</td>\n      <td>1.0</td>\n    </tr>\n    <tr>\n      <th>217674</th>\n      <td>2.309564</td>\n      <td>1.977136</td>\n      <td>1.909903</td>\n      <td>1.0</td>\n      <td>0.0</td>\n      <td>0.0</td>\n      <td>1.0</td>\n    </tr>\n    <tr>\n      <th>370646</th>\n      <td>18.604721</td>\n      <td>0.555865</td>\n      <td>0.777315</td>\n      <td>1.0</td>\n      <td>0.0</td>\n      <td>0.0</td>\n      <td>1.0</td>\n    </tr>\n  </tbody>\n</table>\n<p>300000 rows × 7 columns</p>\n</div>"
     },
     "execution_count": 63,
     "metadata": {},
     "output_type": "execute_result"
    }
   ],
   "source": [
    "y_train = train[\"fraud\"]\n",
    "y_test = test[\"fraud\"]\n",
    "\n",
    "x_train = train.loc[:,train.columns!=\"fraud\"]\n",
    "x_test = test.loc[:,train.columns!=\"fraud\"]"
   ],
   "metadata": {
    "collapsed": false
   }
  },
  {
   "cell_type": "code",
   "execution_count": 71,
   "outputs": [
    {
     "name": "stdout",
     "output_type": "stream",
     "text": [
      "Number of mislabeled points out of a total 700000 points on train: 34033\n",
      "Number of mislabeled points out of a total 300000 points : 14303\n",
      "0.9523233333333333\n",
      "0.9513814285714286\n"
     ]
    }
   ],
   "source": [
    "from sklearn.naive_bayes import GaussianNB\n",
    "from sklearn.metrics import accuracy_score\n",
    "gnb = GaussianNB()\n",
    "fit = gnb.fit(x_train, y_train)\n",
    "y_pred = fit.predict(x_test)\n",
    "y_pred_on_train = fit.predict(x_train)\n",
    "print(\"Number of mislabeled points out of a total %d points on train: %d\" %(len(x_train.index),(y_train != y_pred_on_train).sum()))\n",
    "print(\"Number of mislabeled points out of a total %d points : %d\" %(len(x_test.index),(y_test != y_pred).sum()))\n",
    "accuracy= accuracy_score(y_test, y_pred)\n",
    "accuracy_on_train= accuracy_score(y_train, y_pred_on_train)\n",
    "#print(\"percentage: %f\" % (accuracy * 100))\n",
    "print(accuracy)\n",
    "print(accuracy_on_train)"
   ],
   "metadata": {
    "collapsed": false
   }
  },
  {
   "cell_type": "code",
   "execution_count": null,
   "outputs": [],
   "source": [
    "color = ['red' if l == 0 else 'blue' for l in train[\"fraud\"]]\n",
    "for feature in dataset.loc[:, dataset.columns != 'fraud']:\n",
    "    fig, axs = plt.subplots(ncols=2, figsize=(20, 10))\n",
    "    fig.suptitle(feature)\n",
    "\n",
    "    dataset.groupby(by=train[\"fraud\"])[feature].hist(alpha=0.4, ax=axs[0])\n",
    "    dataset.groupby(by=train[\"fraud\"])[feature].plot(kind='kde', ax=axs[1])\n",
    "    axs[1].legend()\n",
    "    axs[0].legend()"
   ],
   "metadata": {
    "collapsed": false
   }
  }
 ],
 "metadata": {
  "kernelspec": {
   "display_name": "Python 3",
   "language": "python",
   "name": "python3"
  },
  "language_info": {
   "codemirror_mode": {
    "name": "ipython",
    "version": 2
   },
   "file_extension": ".py",
   "mimetype": "text/x-python",
   "name": "python",
   "nbconvert_exporter": "python",
   "pygments_lexer": "ipython2",
   "version": "2.7.6"
  }
 },
 "nbformat": 4,
 "nbformat_minor": 0
}
