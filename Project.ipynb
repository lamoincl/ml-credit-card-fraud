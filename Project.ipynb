{
 "cells": [
  {
   "cell_type": "code",
   "execution_count": 1,
   "metadata": {
    "collapsed": true
   },
   "outputs": [],
   "source": [
    "import numpy as np\n",
    "import matplotlib.pyplot as plt\n",
    "import pandas\n",
    "import pandas as pd"
   ]
  },
  {
   "cell_type": "code",
   "execution_count": 11,
   "outputs": [
    {
     "data": {
      "text/plain": "        distance_from_home  distance_from_last_transaction  \\\n0                57.877857                        0.311140   \n1                10.829943                        0.175592   \n2                 5.091079                        0.805153   \n3                 2.247564                        5.600044   \n4                44.190936                        0.566486   \n...                    ...                             ...   \n999995            2.207101                        0.112651   \n999996           19.872726                        2.683904   \n999997            2.914857                        1.472687   \n999998            4.258729                        0.242023   \n999999           58.108125                        0.318110   \n\n        ratio_to_median_purchase_price  repeat_retailer  used_chip  \\\n0                             1.945940              1.0        1.0   \n1                             1.294219              1.0        0.0   \n2                             0.427715              1.0        0.0   \n3                             0.362663              1.0        1.0   \n4                             2.222767              1.0        1.0   \n...                                ...              ...        ...   \n999995                        1.626798              1.0        1.0   \n999996                        2.778303              1.0        1.0   \n999997                        0.218075              1.0        1.0   \n999998                        0.475822              1.0        0.0   \n999999                        0.386920              1.0        1.0   \n\n        used_pin_number  online_order  fraud  \n0                   0.0           0.0    0.0  \n1                   0.0           0.0    0.0  \n2                   0.0           1.0    0.0  \n3                   0.0           1.0    0.0  \n4                   0.0           1.0    0.0  \n...                 ...           ...    ...  \n999995              0.0           0.0    0.0  \n999996              0.0           0.0    0.0  \n999997              0.0           1.0    0.0  \n999998              0.0           1.0    0.0  \n999999              0.0           1.0    0.0  \n\n[1000000 rows x 8 columns]",
      "text/html": "<div>\n<style scoped>\n    .dataframe tbody tr th:only-of-type {\n        vertical-align: middle;\n    }\n\n    .dataframe tbody tr th {\n        vertical-align: top;\n    }\n\n    .dataframe thead th {\n        text-align: right;\n    }\n</style>\n<table border=\"1\" class=\"dataframe\">\n  <thead>\n    <tr style=\"text-align: right;\">\n      <th></th>\n      <th>distance_from_home</th>\n      <th>distance_from_last_transaction</th>\n      <th>ratio_to_median_purchase_price</th>\n      <th>repeat_retailer</th>\n      <th>used_chip</th>\n      <th>used_pin_number</th>\n      <th>online_order</th>\n      <th>fraud</th>\n    </tr>\n  </thead>\n  <tbody>\n    <tr>\n      <th>0</th>\n      <td>57.877857</td>\n      <td>0.311140</td>\n      <td>1.945940</td>\n      <td>1.0</td>\n      <td>1.0</td>\n      <td>0.0</td>\n      <td>0.0</td>\n      <td>0.0</td>\n    </tr>\n    <tr>\n      <th>1</th>\n      <td>10.829943</td>\n      <td>0.175592</td>\n      <td>1.294219</td>\n      <td>1.0</td>\n      <td>0.0</td>\n      <td>0.0</td>\n      <td>0.0</td>\n      <td>0.0</td>\n    </tr>\n    <tr>\n      <th>2</th>\n      <td>5.091079</td>\n      <td>0.805153</td>\n      <td>0.427715</td>\n      <td>1.0</td>\n      <td>0.0</td>\n      <td>0.0</td>\n      <td>1.0</td>\n      <td>0.0</td>\n    </tr>\n    <tr>\n      <th>3</th>\n      <td>2.247564</td>\n      <td>5.600044</td>\n      <td>0.362663</td>\n      <td>1.0</td>\n      <td>1.0</td>\n      <td>0.0</td>\n      <td>1.0</td>\n      <td>0.0</td>\n    </tr>\n    <tr>\n      <th>4</th>\n      <td>44.190936</td>\n      <td>0.566486</td>\n      <td>2.222767</td>\n      <td>1.0</td>\n      <td>1.0</td>\n      <td>0.0</td>\n      <td>1.0</td>\n      <td>0.0</td>\n    </tr>\n    <tr>\n      <th>...</th>\n      <td>...</td>\n      <td>...</td>\n      <td>...</td>\n      <td>...</td>\n      <td>...</td>\n      <td>...</td>\n      <td>...</td>\n      <td>...</td>\n    </tr>\n    <tr>\n      <th>999995</th>\n      <td>2.207101</td>\n      <td>0.112651</td>\n      <td>1.626798</td>\n      <td>1.0</td>\n      <td>1.0</td>\n      <td>0.0</td>\n      <td>0.0</td>\n      <td>0.0</td>\n    </tr>\n    <tr>\n      <th>999996</th>\n      <td>19.872726</td>\n      <td>2.683904</td>\n      <td>2.778303</td>\n      <td>1.0</td>\n      <td>1.0</td>\n      <td>0.0</td>\n      <td>0.0</td>\n      <td>0.0</td>\n    </tr>\n    <tr>\n      <th>999997</th>\n      <td>2.914857</td>\n      <td>1.472687</td>\n      <td>0.218075</td>\n      <td>1.0</td>\n      <td>1.0</td>\n      <td>0.0</td>\n      <td>1.0</td>\n      <td>0.0</td>\n    </tr>\n    <tr>\n      <th>999998</th>\n      <td>4.258729</td>\n      <td>0.242023</td>\n      <td>0.475822</td>\n      <td>1.0</td>\n      <td>0.0</td>\n      <td>0.0</td>\n      <td>1.0</td>\n      <td>0.0</td>\n    </tr>\n    <tr>\n      <th>999999</th>\n      <td>58.108125</td>\n      <td>0.318110</td>\n      <td>0.386920</td>\n      <td>1.0</td>\n      <td>1.0</td>\n      <td>0.0</td>\n      <td>1.0</td>\n      <td>0.0</td>\n    </tr>\n  </tbody>\n</table>\n<p>1000000 rows × 8 columns</p>\n</div>"
     },
     "execution_count": 11,
     "metadata": {},
     "output_type": "execute_result"
    }
   ],
   "source": [
    "dataset = pd.read_csv(\"card_transdata.csv\")\n",
    "dataset"
   ],
   "metadata": {
    "collapsed": false
   }
  },
  {
   "cell_type": "code",
   "execution_count": 13,
   "outputs": [
    {
     "data": {
      "text/plain": "Index(['distance_from_home', 'distance_from_last_transaction',\n       'ratio_to_median_purchase_price', 'repeat_retailer', 'used_chip',\n       'used_pin_number', 'online_order', 'fraud'],\n      dtype='object')"
     },
     "execution_count": 13,
     "metadata": {},
     "output_type": "execute_result"
    }
   ],
   "source": [
    "dataset.keys()"
   ],
   "metadata": {
    "collapsed": false
   }
  },
  {
   "cell_type": "code",
   "execution_count": null,
   "outputs": [],
   "source": [],
   "metadata": {
    "collapsed": false
   }
  }
 ],
 "metadata": {
  "kernelspec": {
   "display_name": "Python 3",
   "language": "python",
   "name": "python3"
  },
  "language_info": {
   "codemirror_mode": {
    "name": "ipython",
    "version": 2
   },
   "file_extension": ".py",
   "mimetype": "text/x-python",
   "name": "python",
   "nbconvert_exporter": "python",
   "pygments_lexer": "ipython2",
   "version": "2.7.6"
  }
 },
 "nbformat": 4,
 "nbformat_minor": 0
}
